{
  "cells": [
    {
      "cell_type": "markdown",
      "metadata": {
        "id": "3k0Iwgr7LEnU"
      },
      "source": [
        "# Import Necessary Libraries\n"
      ]
    },
    {
      "cell_type": "code",
      "execution_count": 1,
      "metadata": {
        "id": "qSqxS0doJa16"
      },
      "outputs": [
        {
          "ename": "ModuleNotFoundError",
          "evalue": "No module named 'numpy'",
          "output_type": "error",
          "traceback": [
            "\u001b[1;31m---------------------------------------------------------------------------\u001b[0m",
            "\u001b[1;31mModuleNotFoundError\u001b[0m                       Traceback (most recent call last)",
            "Cell \u001b[1;32mIn [1], line 1\u001b[0m\n\u001b[1;32m----> 1\u001b[0m \u001b[39mimport\u001b[39;00m \u001b[39mnumpy\u001b[39;00m \u001b[39mas\u001b[39;00m \u001b[39mnp\u001b[39;00m\n\u001b[0;32m      2\u001b[0m \u001b[39mimport\u001b[39;00m \u001b[39mpandas\u001b[39;00m \u001b[39mas\u001b[39;00m \u001b[39mpd\u001b[39;00m\n\u001b[0;32m      3\u001b[0m \u001b[39mimport\u001b[39;00m \u001b[39mmatplotlib\u001b[39;00m\u001b[39m.\u001b[39;00m\u001b[39mpyplot\u001b[39;00m \u001b[39mas\u001b[39;00m \u001b[39mplt\u001b[39;00m\n",
            "\u001b[1;31mModuleNotFoundError\u001b[0m: No module named 'numpy'"
          ]
        }
      ],
      "source": [
        "import numpy as np\n",
        "import pandas as pd\n",
        "import matplotlib.pyplot as plt\n",
        "import seaborn as sns"
      ]
    },
    {
      "cell_type": "markdown",
      "metadata": {
        "id": "0d1V60c2LQJE"
      },
      "source": [
        "# Import our data"
      ]
    },
    {
      "cell_type": "code",
      "execution_count": null,
      "metadata": {
        "colab": {
          "base_uri": "https://localhost:8080/"
        },
        "id": "qcWo-GTllVm8",
        "outputId": "9db15bd9-2bf4-4a55-cf36-addb82d8b27a"
      },
      "outputs": [],
      "source": [
        "!pip install opendatasets"
      ]
    },
    {
      "cell_type": "code",
      "execution_count": null,
      "metadata": {
        "colab": {
          "base_uri": "https://localhost:8080/"
        },
        "id": "4oxJbjhblXip",
        "outputId": "a09fbbc8-e119-452c-a139-1ecc6b820cd8"
      },
      "outputs": [],
      "source": [
        "import opendatasets as od\n",
        "od.download(\"https://www.kaggle.com/datasets/gaurav2022/mobile-health\")"
      ]
    },
    {
      "cell_type": "code",
      "execution_count": null,
      "metadata": {
        "id": "EWvW2WbKniro"
      },
      "outputs": [],
      "source": [
        "df_health = pd.read_csv(\"/content/mobile-health/mhealth_raw_data.csv\")"
      ]
    },
    {
      "cell_type": "markdown",
      "metadata": {
        "id": "UwT0yXs8o28J"
      },
      "source": [
        "# Data Analysis"
      ]
    },
    {
      "cell_type": "code",
      "execution_count": null,
      "metadata": {
        "colab": {
          "base_uri": "https://localhost:8080/",
          "height": 270
        },
        "id": "xrNNwpbMoooJ",
        "outputId": "9f2fc5e4-0340-4ff8-b2d8-bc2fbbef11ad"
      },
      "outputs": [],
      "source": [
        "df_health.head()"
      ]
    },
    {
      "cell_type": "code",
      "execution_count": null,
      "metadata": {
        "colab": {
          "base_uri": "https://localhost:8080/"
        },
        "id": "-GlY8wJmoq8h",
        "outputId": "0fb181b4-4d81-4dcd-ddcc-0b22550211ef"
      },
      "outputs": [],
      "source": [
        "df_health.info()"
      ]
    },
    {
      "cell_type": "code",
      "execution_count": null,
      "metadata": {
        "colab": {
          "base_uri": "https://localhost:8080/"
        },
        "id": "Cu0Y7f_zotPy",
        "outputId": "172d5bb7-45b5-45a8-b882-475f7321dd6e"
      },
      "outputs": [],
      "source": [
        "df_health.shape"
      ]
    },
    {
      "cell_type": "code",
      "execution_count": null,
      "metadata": {
        "colab": {
          "base_uri": "https://localhost:8080/"
        },
        "id": "9Rl7TiNLovfK",
        "outputId": "aa1459db-9246-4ba8-892f-97aa2d0351df"
      },
      "outputs": [],
      "source": [
        "df_health.columns"
      ]
    },
    {
      "cell_type": "code",
      "execution_count": null,
      "metadata": {
        "colab": {
          "base_uri": "https://localhost:8080/",
          "height": 364
        },
        "id": "7B1E8dd1oz76",
        "outputId": "a6e548b9-5eba-48f2-e906-ea085fe29240"
      },
      "outputs": [],
      "source": [
        "df_health.describe()"
      ]
    },
    {
      "cell_type": "code",
      "execution_count": null,
      "metadata": {
        "colab": {
          "base_uri": "https://localhost:8080/",
          "height": 516
        },
        "id": "7aBwADYfTDR5",
        "outputId": "f1e31a27-8ca6-497a-9dd6-835395813630"
      },
      "outputs": [],
      "source": [
        "#Check data before sampling\n",
        "\n",
        "plt.figure(figsize=(10,8))\n",
        "plt.title(\"Data before sampling\")\n",
        "df_health['Activity'].value_counts().plot.bar(rot=1)"
      ]
    },
    {
      "cell_type": "code",
      "execution_count": null,
      "metadata": {
        "id": "_SJwW10RfRVc"
      },
      "outputs": [],
      "source": [
        "#Resampling activity 0 to 40000 observations\n",
        "data_activity_0 = df_health[df_health['Activity'] == 0]\n",
        "data_activity_else = df_health[df_health['Activity'] != 0]\n",
        "\n",
        "data_activity_0 = data_activity_0.sample(n=40000, random_state=42)\n",
        "\n",
        "df = pd.concat([data_activity_0,data_activity_else])"
      ]
    },
    {
      "cell_type": "code",
      "execution_count": null,
      "metadata": {
        "colab": {
          "base_uri": "https://localhost:8080/",
          "height": 516
        },
        "id": "g-AbOtK6gFv3",
        "outputId": "d6460b04-e981-4923-d31a-3606e3383f04"
      },
      "outputs": [],
      "source": [
        "#Check data after sampling\n",
        "\n",
        "plt.figure(figsize=(10,8))\n",
        "plt.title(\"Data after sampling\")\n",
        "df['Activity'].value_counts().plot.bar(rot=1)"
      ]
    },
    {
      "cell_type": "markdown",
      "metadata": {
        "id": "zJcPlVMkhzXG"
      },
      "source": [
        "## EDA"
      ]
    },
    {
      "cell_type": "code",
      "execution_count": null,
      "metadata": {
        "colab": {
          "base_uri": "https://localhost:8080/",
          "height": 483
        },
        "id": "3qoxCnbBgy5f",
        "outputId": "266d54af-9d67-4522-c934-a121332daf8a"
      },
      "outputs": [],
      "source": [
        "plt.figure(figsize=(12,8))\n",
        "round(df['Activity'].value_counts()/df.shape[0] * 100, 2).plot.pie(autopct= '%2.1f%%')"
      ]
    },
    {
      "cell_type": "code",
      "execution_count": null,
      "metadata": {
        "colab": {
          "base_uri": "https://localhost:8080/",
          "height": 693
        },
        "id": "ZFxROrQPiBWN",
        "outputId": "a74f4b19-caba-4d8f-a1b6-d8189bdd9ca3"
      },
      "outputs": [],
      "source": [
        "plt.subplots(figsize =(18,18))\n",
        "sns.heatmap(df.corr(), annot=True)"
      ]
    },
    {
      "cell_type": "code",
      "execution_count": null,
      "metadata": {
        "colab": {
          "base_uri": "https://localhost:8080/"
        },
        "id": "nz2MAdckilAC",
        "outputId": "506afa84-e4a3-4c37-eb03-0a02fa80fa5b"
      },
      "outputs": [],
      "source": [
        "df.shape"
      ]
    },
    {
      "cell_type": "code",
      "execution_count": null,
      "metadata": {
        "colab": {
          "base_uri": "https://localhost:8080/"
        },
        "id": "-u2ql5j0lXnS",
        "outputId": "d7076d96-c28e-4478-bf13-4fe5a8fd0836"
      },
      "outputs": [],
      "source": [
        "### Confidence interval\n",
        "\n",
        "df1 = df.copy()\n",
        "\n",
        "for feature in df1.columns[:-2]:\n",
        "  lower_range = np.quantile(df[feature], 0.01)\n",
        "  upper_range = np.quantile(df[feature], 0.99)\n",
        "  print(feature, 'range:', lower_range, 'to', upper_range)\n",
        "\n",
        "  df1 = df1.drop(df1[(df1[feature] > upper_range) | (df1[feature] < lower_range)].index, axis=0)\n",
        "  print('shape', df1.shape)"
      ]
    },
    {
      "cell_type": "code",
      "execution_count": null,
      "metadata": {
        "colab": {
          "base_uri": "https://localhost:8080/"
        },
        "id": "fZYg2j1vp4C7",
        "outputId": "1e8b6ea8-737d-4a0b-b029-8cb6c4e6fe96"
      },
      "outputs": [],
      "source": [
        "df1.shape"
      ]
    },
    {
      "cell_type": "code",
      "execution_count": null,
      "metadata": {
        "id": "vFrskmUGp3_6"
      },
      "outputs": [],
      "source": [
        "df = df1.copy()"
      ]
    },
    {
      "cell_type": "code",
      "execution_count": null,
      "metadata": {
        "id": "mWBN4hHzqEUH"
      },
      "outputs": [],
      "source": [
        "df = df.drop('subject', axis=1)"
      ]
    },
    {
      "cell_type": "code",
      "execution_count": null,
      "metadata": {
        "colab": {
          "base_uri": "https://localhost:8080/"
        },
        "id": "axrmQIDDqMdn",
        "outputId": "ec9c924a-2b71-4ae0-c118-2eb451785cbb"
      },
      "outputs": [],
      "source": [
        "df.columns"
      ]
    },
    {
      "cell_type": "code",
      "execution_count": null,
      "metadata": {
        "id": "oOldDeUEqYlT"
      },
      "outputs": [],
      "source": [
        "# Train test split\n",
        "from sklearn.model_selection import train_test_split, GridSearchCV\n",
        "from sklearn.metrics import classification_report, accuracy_score, recall_score, precision_score, f1_score,confusion_matrix, mean_absolute_error , r2_score , mean_squared_error, mean_absolute_percentage_error\n",
        "x = df.drop(['Activity'], axis = 1)\n",
        "y = df['Activity']\n",
        "\n",
        "x_train, x_test, y_train, y_test = train_test_split(x, y, test_size=0.25, random_state=42)"
      ]
    },
    {
      "cell_type": "code",
      "execution_count": null,
      "metadata": {
        "colab": {
          "base_uri": "https://localhost:8080/"
        },
        "id": "G5xDf3nTrI6y",
        "outputId": "f59dac2c-43ee-4280-ee80-41120139407d"
      },
      "outputs": [],
      "source": [
        "x_train.shape"
      ]
    },
    {
      "cell_type": "code",
      "execution_count": null,
      "metadata": {
        "colab": {
          "base_uri": "https://localhost:8080/",
          "height": 488
        },
        "id": "XRi8r6marI3y",
        "outputId": "eb337051-5e80-402f-a45e-0f3af17f8d5a"
      },
      "outputs": [],
      "source": [
        "x_test"
      ]
    },
    {
      "cell_type": "code",
      "execution_count": null,
      "metadata": {
        "colab": {
          "base_uri": "https://localhost:8080/"
        },
        "id": "LGnV2MjNrP41",
        "outputId": "a488e3c3-579d-4514-d4f7-24e613ab96fe"
      },
      "outputs": [],
      "source": [
        "y_train"
      ]
    },
    {
      "cell_type": "code",
      "execution_count": null,
      "metadata": {
        "colab": {
          "base_uri": "https://localhost:8080/"
        },
        "id": "_4e33zQGrP11",
        "outputId": "40999a35-e0c4-480a-b1fb-1da0973afa33"
      },
      "outputs": [],
      "source": [
        "y_test.shape"
      ]
    },
    {
      "cell_type": "markdown",
      "metadata": {
        "id": "hjas1Xdrpuwt"
      },
      "source": [
        "# Model Building && Model Evaluation"
      ]
    },
    {
      "cell_type": "code",
      "execution_count": null,
      "metadata": {
        "id": "t3rqtM9V0-wR"
      },
      "outputs": [],
      "source": [
        "# Feature Scaling\n",
        "from sklearn.preprocessing import RobustScaler\n",
        "scaler = RobustScaler().fit(x_train)\n",
        "x_train = scaler.transform(x_train)\n",
        "x_test = scaler.transform(x_test)"
      ]
    },
    {
      "cell_type": "code",
      "execution_count": null,
      "metadata": {
        "id": "FrRTXGyhmEYh"
      },
      "outputs": [],
      "source": [
        "from sklearn.linear_model import LogisticRegression\n",
        "from sklearn.svm import SVC\n",
        "from sklearn.neighbors import KNeighborsClassifier\n",
        "from sklearn.naive_bayes import GaussianNB\n",
        "from sklearn.ensemble import RandomForestClassifier\n",
        "from sklearn.tree import DecisionTreeClassifier"
      ]
    },
    {
      "cell_type": "code",
      "execution_count": null,
      "metadata": {
        "colab": {
          "base_uri": "https://localhost:8080/"
        },
        "id": "QLjwhWJsr150",
        "outputId": "f20d43d8-1e22-438d-cc05-ed4e0b7a22fa"
      },
      "outputs": [],
      "source": [
        "#Logistic Regression\n",
        "lr = LogisticRegression()\n",
        "lr.fit(x_train, y_train)\n",
        "pred = lr.predict(x_test)\n",
        "f1_score(y_test, pred,pos_label='positive', average='micro')"
      ]
    },
    {
      "cell_type": "code",
      "execution_count": null,
      "metadata": {
        "id": "XHBNQHxi3D6F"
      },
      "outputs": [],
      "source": [
        "#putting models in a dictionary\n",
        "\n",
        "models = {\n",
        "    'Randomforest': RandomForestClassifier(),\n",
        "    'LogisticRegression':LogisticRegression(),\n",
        "    'SVC':SVC(),\n",
        "    'KNeighborsClassifier':KNeighborsClassifier(),\n",
        "    'GaussianNB': GaussianNB(),\n",
        "    'DecisionTreeClassifier': DecisionTreeClassifier()\n",
        "}\n",
        "\n",
        "def fit_and_score(models, x_train, x_test, y_train, y_test):\n",
        "  np.random.seed(42)\n",
        "\n",
        "  #making a dictionary to keep model scores];;\n",
        "\n",
        "  model_scores = {}\n",
        "\n",
        "  for name, model in models.items():\n",
        "    model.fit(x_train,y_train)\n",
        "    preds = model.predict(x_test)\n",
        "    model_scores[name] = f1_score(y_test, preds,pos_label='positive', average='micro')\n",
        "  return model_scores"
      ]
    },
    {
      "cell_type": "code",
      "execution_count": null,
      "metadata": {
        "colab": {
          "base_uri": "https://localhost:8080/"
        },
        "id": "-ax8cxbHQJJq",
        "outputId": "fa1850c4-a099-4d1a-f7e5-e143727252f1"
      },
      "outputs": [],
      "source": [
        "scores = fit_and_score(models, x_train, x_test, y_train, y_test)\n",
        "\n",
        "scores"
      ]
    },
    {
      "cell_type": "code",
      "execution_count": null,
      "metadata": {
        "id": "J5pIIZDDftKP"
      },
      "outputs": [],
      "source": [
        "## We didn't do hyperparameter tuning because the model is good enough"
      ]
    },
    {
      "cell_type": "code",
      "execution_count": null,
      "metadata": {
        "colab": {
          "base_uri": "https://localhost:8080/"
        },
        "id": "Nrl6LTtwfs9N",
        "outputId": "875ff26c-d826-4248-a040-9d6bc66bae1a"
      },
      "outputs": [],
      "source": [
        "# We'll be using random forest model, it has the highest accuracy in our evaluation using f1 score\n",
        "# It has a 97% accuracty\n",
        "rf = RandomForestClassifier()\n",
        "rf.fit(x_train,y_train)\n",
        "prediction = rf.predict(x_test)\n",
        "f1_score(y_test, prediction,pos_label='positive', average='micro')"
      ]
    },
    {
      "cell_type": "markdown",
      "metadata": {
        "id": "Igzy2yoi4Bud"
      },
      "source": [
        "# Model Deployment"
      ]
    },
    {
      "cell_type": "code",
      "execution_count": null,
      "metadata": {
        "colab": {
          "base_uri": "https://localhost:8080/"
        },
        "id": "L2fCnwIR3LU5",
        "outputId": "db4bec1d-0ec8-48ce-8958-76aa140a5538"
      },
      "outputs": [],
      "source": [
        "import pickle\n",
        "filename = 'rf_model.pkl'\n",
        "pickle.dump(rf, open(filename, 'wb'))\n",
        " \n",
        "# some time later...\n",
        " \n",
        "# load the model from disk\n",
        "loaded_model = pickle.load(open(filename, 'rb'))\n",
        "result = loaded_model.score(x_test, y_test)\n",
        "print(result)"
      ]
    }
  ],
  "metadata": {
    "accelerator": "GPU",
    "colab": {
      "collapsed_sections": [],
      "provenance": []
    },
    "kernelspec": {
      "display_name": "Python 3.10.4 ('cpredict')",
      "language": "python",
      "name": "python3"
    },
    "language_info": {
      "codemirror_mode": {
        "name": "ipython",
        "version": 3
      },
      "file_extension": ".py",
      "mimetype": "text/x-python",
      "name": "python",
      "nbconvert_exporter": "python",
      "pygments_lexer": "ipython3",
      "version": "3.10.4"
    },
    "vscode": {
      "interpreter": {
        "hash": "d151ea3add5bf91f9a39facd503e5333a2089395174097a60a0afc72ff283b33"
      }
    }
  },
  "nbformat": 4,
  "nbformat_minor": 0
}
