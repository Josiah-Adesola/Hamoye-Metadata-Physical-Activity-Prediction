{
  "cells": [
    {
      "cell_type": "markdown",
      "metadata": {
        "id": "3k0Iwgr7LEnU"
      },
      "source": [
        "# Import Necessary Libraries\n"
      ]
    },
    {
      "cell_type": "code",
      "execution_count": 1,
      "metadata": {
        "id": "qSqxS0doJa16"
      },
      "outputs": [],
      "source": [
        "import numpy as np\n",
        "import pandas as pd\n",
        "import matplotlib.pyplot as plt\n",
        "import seaborn as sns"
      ]
    },
    {
      "cell_type": "markdown",
      "metadata": {
        "id": "0d1V60c2LQJE"
      },
      "source": [
        "# Import our data"
      ]
    },
    {
      "cell_type": "code",
      "execution_count": 2,
      "metadata": {
        "colab": {
          "base_uri": "https://localhost:8080/"
        },
        "id": "qcWo-GTllVm8",
        "outputId": "d7756b3f-98a7-40c1-a9c6-3978ae627920"
      },
      "outputs": [
        {
          "output_type": "stream",
          "name": "stdout",
          "text": [
            "Looking in indexes: https://pypi.org/simple, https://us-python.pkg.dev/colab-wheels/public/simple/\n",
            "Collecting opendatasets\n",
            "  Downloading opendatasets-0.1.22-py3-none-any.whl (15 kB)\n",
            "Requirement already satisfied: tqdm in /usr/local/lib/python3.7/dist-packages (from opendatasets) (4.64.1)\n",
            "Requirement already satisfied: kaggle in /usr/local/lib/python3.7/dist-packages (from opendatasets) (1.5.12)\n",
            "Requirement already satisfied: click in /usr/local/lib/python3.7/dist-packages (from opendatasets) (7.1.2)\n",
            "Requirement already satisfied: certifi in /usr/local/lib/python3.7/dist-packages (from kaggle->opendatasets) (2022.9.24)\n",
            "Requirement already satisfied: six>=1.10 in /usr/local/lib/python3.7/dist-packages (from kaggle->opendatasets) (1.15.0)\n",
            "Requirement already satisfied: python-dateutil in /usr/local/lib/python3.7/dist-packages (from kaggle->opendatasets) (2.8.2)\n",
            "Requirement already satisfied: urllib3 in /usr/local/lib/python3.7/dist-packages (from kaggle->opendatasets) (1.24.3)\n",
            "Requirement already satisfied: python-slugify in /usr/local/lib/python3.7/dist-packages (from kaggle->opendatasets) (6.1.2)\n",
            "Requirement already satisfied: requests in /usr/local/lib/python3.7/dist-packages (from kaggle->opendatasets) (2.23.0)\n",
            "Requirement already satisfied: text-unidecode>=1.3 in /usr/local/lib/python3.7/dist-packages (from python-slugify->kaggle->opendatasets) (1.3)\n",
            "Requirement already satisfied: chardet<4,>=3.0.2 in /usr/local/lib/python3.7/dist-packages (from requests->kaggle->opendatasets) (3.0.4)\n",
            "Requirement already satisfied: idna<3,>=2.5 in /usr/local/lib/python3.7/dist-packages (from requests->kaggle->opendatasets) (2.10)\n",
            "Installing collected packages: opendatasets\n",
            "Successfully installed opendatasets-0.1.22\n"
          ]
        }
      ],
      "source": [
        "!pip install opendatasets"
      ]
    },
    {
      "cell_type": "code",
      "execution_count": 3,
      "metadata": {
        "id": "4oxJbjhblXip",
        "colab": {
          "base_uri": "https://localhost:8080/"
        },
        "outputId": "46b15c55-ddd8-4804-cee1-4401a9c5408b"
      },
      "outputs": [
        {
          "output_type": "stream",
          "name": "stdout",
          "text": [
            "Please provide your Kaggle credentials to download this dataset. Learn more: http://bit.ly/kaggle-creds\n",
            "Your Kaggle username: josiahadesola\n",
            "Your Kaggle Key: ··········\n",
            "Downloading mobile-health.zip to ./mobile-health\n"
          ]
        },
        {
          "output_type": "stream",
          "name": "stderr",
          "text": [
            "100%|██████████| 35.5M/35.5M [00:00<00:00, 42.0MB/s]\n"
          ]
        },
        {
          "output_type": "stream",
          "name": "stdout",
          "text": [
            "\n"
          ]
        }
      ],
      "source": [
        "import opendatasets as od\n",
        "od.download(\"https://www.kaggle.com/datasets/gaurav2022/mobile-health\")"
      ]
    },
    {
      "cell_type": "code",
      "execution_count": 4,
      "metadata": {
        "id": "EWvW2WbKniro"
      },
      "outputs": [],
      "source": [
        "df_health = pd.read_csv(\"/content/mobile-health/mhealth_raw_data.csv\")"
      ]
    },
    {
      "cell_type": "markdown",
      "metadata": {
        "id": "UwT0yXs8o28J"
      },
      "source": [
        "# Data Analysis"
      ]
    },
    {
      "cell_type": "code",
      "execution_count": 5,
      "metadata": {
        "id": "xrNNwpbMoooJ",
        "colab": {
          "base_uri": "https://localhost:8080/",
          "height": 270
        },
        "outputId": "cdbf7caa-024d-4d54-fed0-0480d58fb557"
      },
      "outputs": [
        {
          "output_type": "execute_result",
          "data": {
            "text/plain": [
              "      alx     aly      alz       glx      gly      glz     arx     ary  \\\n",
              "0  2.1849 -9.6967  0.63077  0.103900 -0.84053 -0.68762 -8.6499 -4.5781   \n",
              "1  2.3876 -9.5080  0.68389  0.085343 -0.83865 -0.68369 -8.6275 -4.3198   \n",
              "2  2.4086 -9.5674  0.68113  0.085343 -0.83865 -0.68369 -8.5055 -4.2772   \n",
              "3  2.1814 -9.4301  0.55031  0.085343 -0.83865 -0.68369 -8.6279 -4.3163   \n",
              "4  2.4173 -9.3889  0.71098  0.085343 -0.83865 -0.68369 -8.7008 -4.1459   \n",
              "\n",
              "        arz      grx     gry       grz  Activity   subject  \n",
              "0  0.187760 -0.44902 -1.0103  0.034483         0  subject1  \n",
              "1  0.023595 -0.44902 -1.0103  0.034483         0  subject1  \n",
              "2  0.275720 -0.44902 -1.0103  0.034483         0  subject1  \n",
              "3  0.367520 -0.45686 -1.0082  0.025862         0  subject1  \n",
              "4  0.407290 -0.45686 -1.0082  0.025862         0  subject1  "
            ],
            "text/html": [
              "\n",
              "  <div id=\"df-bb9a2b23-e302-400a-bde2-0af1beaa816e\">\n",
              "    <div class=\"colab-df-container\">\n",
              "      <div>\n",
              "<style scoped>\n",
              "    .dataframe tbody tr th:only-of-type {\n",
              "        vertical-align: middle;\n",
              "    }\n",
              "\n",
              "    .dataframe tbody tr th {\n",
              "        vertical-align: top;\n",
              "    }\n",
              "\n",
              "    .dataframe thead th {\n",
              "        text-align: right;\n",
              "    }\n",
              "</style>\n",
              "<table border=\"1\" class=\"dataframe\">\n",
              "  <thead>\n",
              "    <tr style=\"text-align: right;\">\n",
              "      <th></th>\n",
              "      <th>alx</th>\n",
              "      <th>aly</th>\n",
              "      <th>alz</th>\n",
              "      <th>glx</th>\n",
              "      <th>gly</th>\n",
              "      <th>glz</th>\n",
              "      <th>arx</th>\n",
              "      <th>ary</th>\n",
              "      <th>arz</th>\n",
              "      <th>grx</th>\n",
              "      <th>gry</th>\n",
              "      <th>grz</th>\n",
              "      <th>Activity</th>\n",
              "      <th>subject</th>\n",
              "    </tr>\n",
              "  </thead>\n",
              "  <tbody>\n",
              "    <tr>\n",
              "      <th>0</th>\n",
              "      <td>2.1849</td>\n",
              "      <td>-9.6967</td>\n",
              "      <td>0.63077</td>\n",
              "      <td>0.103900</td>\n",
              "      <td>-0.84053</td>\n",
              "      <td>-0.68762</td>\n",
              "      <td>-8.6499</td>\n",
              "      <td>-4.5781</td>\n",
              "      <td>0.187760</td>\n",
              "      <td>-0.44902</td>\n",
              "      <td>-1.0103</td>\n",
              "      <td>0.034483</td>\n",
              "      <td>0</td>\n",
              "      <td>subject1</td>\n",
              "    </tr>\n",
              "    <tr>\n",
              "      <th>1</th>\n",
              "      <td>2.3876</td>\n",
              "      <td>-9.5080</td>\n",
              "      <td>0.68389</td>\n",
              "      <td>0.085343</td>\n",
              "      <td>-0.83865</td>\n",
              "      <td>-0.68369</td>\n",
              "      <td>-8.6275</td>\n",
              "      <td>-4.3198</td>\n",
              "      <td>0.023595</td>\n",
              "      <td>-0.44902</td>\n",
              "      <td>-1.0103</td>\n",
              "      <td>0.034483</td>\n",
              "      <td>0</td>\n",
              "      <td>subject1</td>\n",
              "    </tr>\n",
              "    <tr>\n",
              "      <th>2</th>\n",
              "      <td>2.4086</td>\n",
              "      <td>-9.5674</td>\n",
              "      <td>0.68113</td>\n",
              "      <td>0.085343</td>\n",
              "      <td>-0.83865</td>\n",
              "      <td>-0.68369</td>\n",
              "      <td>-8.5055</td>\n",
              "      <td>-4.2772</td>\n",
              "      <td>0.275720</td>\n",
              "      <td>-0.44902</td>\n",
              "      <td>-1.0103</td>\n",
              "      <td>0.034483</td>\n",
              "      <td>0</td>\n",
              "      <td>subject1</td>\n",
              "    </tr>\n",
              "    <tr>\n",
              "      <th>3</th>\n",
              "      <td>2.1814</td>\n",
              "      <td>-9.4301</td>\n",
              "      <td>0.55031</td>\n",
              "      <td>0.085343</td>\n",
              "      <td>-0.83865</td>\n",
              "      <td>-0.68369</td>\n",
              "      <td>-8.6279</td>\n",
              "      <td>-4.3163</td>\n",
              "      <td>0.367520</td>\n",
              "      <td>-0.45686</td>\n",
              "      <td>-1.0082</td>\n",
              "      <td>0.025862</td>\n",
              "      <td>0</td>\n",
              "      <td>subject1</td>\n",
              "    </tr>\n",
              "    <tr>\n",
              "      <th>4</th>\n",
              "      <td>2.4173</td>\n",
              "      <td>-9.3889</td>\n",
              "      <td>0.71098</td>\n",
              "      <td>0.085343</td>\n",
              "      <td>-0.83865</td>\n",
              "      <td>-0.68369</td>\n",
              "      <td>-8.7008</td>\n",
              "      <td>-4.1459</td>\n",
              "      <td>0.407290</td>\n",
              "      <td>-0.45686</td>\n",
              "      <td>-1.0082</td>\n",
              "      <td>0.025862</td>\n",
              "      <td>0</td>\n",
              "      <td>subject1</td>\n",
              "    </tr>\n",
              "  </tbody>\n",
              "</table>\n",
              "</div>\n",
              "      <button class=\"colab-df-convert\" onclick=\"convertToInteractive('df-bb9a2b23-e302-400a-bde2-0af1beaa816e')\"\n",
              "              title=\"Convert this dataframe to an interactive table.\"\n",
              "              style=\"display:none;\">\n",
              "        \n",
              "  <svg xmlns=\"http://www.w3.org/2000/svg\" height=\"24px\"viewBox=\"0 0 24 24\"\n",
              "       width=\"24px\">\n",
              "    <path d=\"M0 0h24v24H0V0z\" fill=\"none\"/>\n",
              "    <path d=\"M18.56 5.44l.94 2.06.94-2.06 2.06-.94-2.06-.94-.94-2.06-.94 2.06-2.06.94zm-11 1L8.5 8.5l.94-2.06 2.06-.94-2.06-.94L8.5 2.5l-.94 2.06-2.06.94zm10 10l.94 2.06.94-2.06 2.06-.94-2.06-.94-.94-2.06-.94 2.06-2.06.94z\"/><path d=\"M17.41 7.96l-1.37-1.37c-.4-.4-.92-.59-1.43-.59-.52 0-1.04.2-1.43.59L10.3 9.45l-7.72 7.72c-.78.78-.78 2.05 0 2.83L4 21.41c.39.39.9.59 1.41.59.51 0 1.02-.2 1.41-.59l7.78-7.78 2.81-2.81c.8-.78.8-2.07 0-2.86zM5.41 20L4 18.59l7.72-7.72 1.47 1.35L5.41 20z\"/>\n",
              "  </svg>\n",
              "      </button>\n",
              "      \n",
              "  <style>\n",
              "    .colab-df-container {\n",
              "      display:flex;\n",
              "      flex-wrap:wrap;\n",
              "      gap: 12px;\n",
              "    }\n",
              "\n",
              "    .colab-df-convert {\n",
              "      background-color: #E8F0FE;\n",
              "      border: none;\n",
              "      border-radius: 50%;\n",
              "      cursor: pointer;\n",
              "      display: none;\n",
              "      fill: #1967D2;\n",
              "      height: 32px;\n",
              "      padding: 0 0 0 0;\n",
              "      width: 32px;\n",
              "    }\n",
              "\n",
              "    .colab-df-convert:hover {\n",
              "      background-color: #E2EBFA;\n",
              "      box-shadow: 0px 1px 2px rgba(60, 64, 67, 0.3), 0px 1px 3px 1px rgba(60, 64, 67, 0.15);\n",
              "      fill: #174EA6;\n",
              "    }\n",
              "\n",
              "    [theme=dark] .colab-df-convert {\n",
              "      background-color: #3B4455;\n",
              "      fill: #D2E3FC;\n",
              "    }\n",
              "\n",
              "    [theme=dark] .colab-df-convert:hover {\n",
              "      background-color: #434B5C;\n",
              "      box-shadow: 0px 1px 3px 1px rgba(0, 0, 0, 0.15);\n",
              "      filter: drop-shadow(0px 1px 2px rgba(0, 0, 0, 0.3));\n",
              "      fill: #FFFFFF;\n",
              "    }\n",
              "  </style>\n",
              "\n",
              "      <script>\n",
              "        const buttonEl =\n",
              "          document.querySelector('#df-bb9a2b23-e302-400a-bde2-0af1beaa816e button.colab-df-convert');\n",
              "        buttonEl.style.display =\n",
              "          google.colab.kernel.accessAllowed ? 'block' : 'none';\n",
              "\n",
              "        async function convertToInteractive(key) {\n",
              "          const element = document.querySelector('#df-bb9a2b23-e302-400a-bde2-0af1beaa816e');\n",
              "          const dataTable =\n",
              "            await google.colab.kernel.invokeFunction('convertToInteractive',\n",
              "                                                     [key], {});\n",
              "          if (!dataTable) return;\n",
              "\n",
              "          const docLinkHtml = 'Like what you see? Visit the ' +\n",
              "            '<a target=\"_blank\" href=https://colab.research.google.com/notebooks/data_table.ipynb>data table notebook</a>'\n",
              "            + ' to learn more about interactive tables.';\n",
              "          element.innerHTML = '';\n",
              "          dataTable['output_type'] = 'display_data';\n",
              "          await google.colab.output.renderOutput(dataTable, element);\n",
              "          const docLink = document.createElement('div');\n",
              "          docLink.innerHTML = docLinkHtml;\n",
              "          element.appendChild(docLink);\n",
              "        }\n",
              "      </script>\n",
              "    </div>\n",
              "  </div>\n",
              "  "
            ]
          },
          "metadata": {},
          "execution_count": 5
        }
      ],
      "source": [
        "df_health.head()"
      ]
    },
    {
      "cell_type": "code",
      "execution_count": 6,
      "metadata": {
        "id": "-GlY8wJmoq8h",
        "colab": {
          "base_uri": "https://localhost:8080/"
        },
        "outputId": "9c43eaa3-32ee-4fe1-b1b5-ef13b1222221"
      },
      "outputs": [
        {
          "output_type": "stream",
          "name": "stdout",
          "text": [
            "<class 'pandas.core.frame.DataFrame'>\n",
            "RangeIndex: 1215745 entries, 0 to 1215744\n",
            "Data columns (total 14 columns):\n",
            " #   Column    Non-Null Count    Dtype  \n",
            "---  ------    --------------    -----  \n",
            " 0   alx       1215745 non-null  float64\n",
            " 1   aly       1215745 non-null  float64\n",
            " 2   alz       1215745 non-null  float64\n",
            " 3   glx       1215745 non-null  float64\n",
            " 4   gly       1215745 non-null  float64\n",
            " 5   glz       1215745 non-null  float64\n",
            " 6   arx       1215745 non-null  float64\n",
            " 7   ary       1215745 non-null  float64\n",
            " 8   arz       1215745 non-null  float64\n",
            " 9   grx       1215745 non-null  float64\n",
            " 10  gry       1215745 non-null  float64\n",
            " 11  grz       1215745 non-null  float64\n",
            " 12  Activity  1215745 non-null  int64  \n",
            " 13  subject   1215745 non-null  object \n",
            "dtypes: float64(12), int64(1), object(1)\n",
            "memory usage: 129.9+ MB\n"
          ]
        }
      ],
      "source": [
        "df_health.info()"
      ]
    },
    {
      "cell_type": "code",
      "execution_count": 7,
      "metadata": {
        "id": "Cu0Y7f_zotPy",
        "colab": {
          "base_uri": "https://localhost:8080/"
        },
        "outputId": "0db1518b-7efa-4dc7-a3c8-45bbcbb4242c"
      },
      "outputs": [
        {
          "output_type": "execute_result",
          "data": {
            "text/plain": [
              "(1215745, 14)"
            ]
          },
          "metadata": {},
          "execution_count": 7
        }
      ],
      "source": [
        "df_health.shape"
      ]
    },
    {
      "cell_type": "code",
      "execution_count": 8,
      "metadata": {
        "id": "9Rl7TiNLovfK",
        "colab": {
          "base_uri": "https://localhost:8080/"
        },
        "outputId": "bd93ab0b-d940-4989-8b8d-676e60762493"
      },
      "outputs": [
        {
          "output_type": "execute_result",
          "data": {
            "text/plain": [
              "Index(['alx', 'aly', 'alz', 'glx', 'gly', 'glz', 'arx', 'ary', 'arz', 'grx',\n",
              "       'gry', 'grz', 'Activity', 'subject'],\n",
              "      dtype='object')"
            ]
          },
          "metadata": {},
          "execution_count": 8
        }
      ],
      "source": [
        "df_health.columns"
      ]
    },
    {
      "cell_type": "code",
      "execution_count": 9,
      "metadata": {
        "id": "7B1E8dd1oz76",
        "colab": {
          "base_uri": "https://localhost:8080/",
          "height": 364
        },
        "outputId": "af1707f9-1c5e-4745-d9a8-2e4298e2e0ca"
      },
      "outputs": [
        {
          "output_type": "execute_result",
          "data": {
            "text/plain": [
              "                alx           aly           alz           glx           gly  \\\n",
              "count  1.215745e+06  1.215745e+06  1.215745e+06  1.215745e+06  1.215745e+06   \n",
              "mean   1.494200e+00 -9.692878e+00 -9.548056e-01 -1.598951e-03 -6.166318e-01   \n",
              "std    3.826485e+00  4.171303e+00  5.461803e+00  4.912172e-01  3.546406e-01   \n",
              "min   -2.214600e+01 -1.961900e+01 -1.937300e+01 -2.146600e+00 -7.789900e+00   \n",
              "25%    1.413100e-01 -1.020100e+01 -2.649400e+00 -4.359900e-01 -8.180100e-01   \n",
              "50%    1.308900e+00 -9.670300e+00 -1.645600e-02 -1.484200e-02 -7.073200e-01   \n",
              "75%    2.575800e+00 -9.042200e+00  1.301300e+00  4.489800e-01 -5.403400e-01   \n",
              "max    2.005400e+01  2.116100e+01  2.501500e+01  6.048400e+01  2.011300e+00   \n",
              "\n",
              "                glz           arx           ary           arz           grx  \\\n",
              "count  1.215745e+06  1.215745e+06  1.215745e+06  1.215745e+06  1.215745e+06   \n",
              "mean  -1.587811e-01 -3.713413e+00 -5.805526e+00  2.393880e+00 -2.761061e-01   \n",
              "std    5.467979e-01  4.763586e+00  5.757639e+00  3.876503e+00  5.276888e-01   \n",
              "min   -2.626700e+00 -2.236100e+01 -1.897200e+01 -1.823900e+01 -8.339200e+00   \n",
              "25%   -5.933200e-01 -6.076000e+00 -9.404200e+00  1.296500e-01 -7.058800e-01   \n",
              "50%   -1.905700e-01 -2.977600e+00 -7.461500e+00  1.928100e+00 -3.549000e-01   \n",
              "75%    3.222000e-01 -1.193700e+00 -2.533900e+00  4.914700e+00  9.607800e-02   \n",
              "max    2.770100e+00  1.986400e+01  2.219100e+01  2.574100e+01  3.319600e+00   \n",
              "\n",
              "                gry           grz      Activity  \n",
              "count  1.215745e+06  1.215745e+06  1.215745e+06  \n",
              "mean  -4.664340e-01  2.666335e-01  1.741465e+00  \n",
              "std    5.555510e-01  5.643804e-01  3.283679e+00  \n",
              "min   -3.570800e+00 -2.689700e+00  0.000000e+00  \n",
              "25%   -8.973300e-01 -2.370700e-01  0.000000e+00  \n",
              "50%   -6.345000e-01  3.017200e-01  0.000000e+00  \n",
              "75%   -1.067800e-01  7.780200e-01  2.000000e+00  \n",
              "max    1.556500e+00  2.750000e+00  1.200000e+01  "
            ],
            "text/html": [
              "\n",
              "  <div id=\"df-a019ac1e-8335-407c-baa8-18163330af70\">\n",
              "    <div class=\"colab-df-container\">\n",
              "      <div>\n",
              "<style scoped>\n",
              "    .dataframe tbody tr th:only-of-type {\n",
              "        vertical-align: middle;\n",
              "    }\n",
              "\n",
              "    .dataframe tbody tr th {\n",
              "        vertical-align: top;\n",
              "    }\n",
              "\n",
              "    .dataframe thead th {\n",
              "        text-align: right;\n",
              "    }\n",
              "</style>\n",
              "<table border=\"1\" class=\"dataframe\">\n",
              "  <thead>\n",
              "    <tr style=\"text-align: right;\">\n",
              "      <th></th>\n",
              "      <th>alx</th>\n",
              "      <th>aly</th>\n",
              "      <th>alz</th>\n",
              "      <th>glx</th>\n",
              "      <th>gly</th>\n",
              "      <th>glz</th>\n",
              "      <th>arx</th>\n",
              "      <th>ary</th>\n",
              "      <th>arz</th>\n",
              "      <th>grx</th>\n",
              "      <th>gry</th>\n",
              "      <th>grz</th>\n",
              "      <th>Activity</th>\n",
              "    </tr>\n",
              "  </thead>\n",
              "  <tbody>\n",
              "    <tr>\n",
              "      <th>count</th>\n",
              "      <td>1.215745e+06</td>\n",
              "      <td>1.215745e+06</td>\n",
              "      <td>1.215745e+06</td>\n",
              "      <td>1.215745e+06</td>\n",
              "      <td>1.215745e+06</td>\n",
              "      <td>1.215745e+06</td>\n",
              "      <td>1.215745e+06</td>\n",
              "      <td>1.215745e+06</td>\n",
              "      <td>1.215745e+06</td>\n",
              "      <td>1.215745e+06</td>\n",
              "      <td>1.215745e+06</td>\n",
              "      <td>1.215745e+06</td>\n",
              "      <td>1.215745e+06</td>\n",
              "    </tr>\n",
              "    <tr>\n",
              "      <th>mean</th>\n",
              "      <td>1.494200e+00</td>\n",
              "      <td>-9.692878e+00</td>\n",
              "      <td>-9.548056e-01</td>\n",
              "      <td>-1.598951e-03</td>\n",
              "      <td>-6.166318e-01</td>\n",
              "      <td>-1.587811e-01</td>\n",
              "      <td>-3.713413e+00</td>\n",
              "      <td>-5.805526e+00</td>\n",
              "      <td>2.393880e+00</td>\n",
              "      <td>-2.761061e-01</td>\n",
              "      <td>-4.664340e-01</td>\n",
              "      <td>2.666335e-01</td>\n",
              "      <td>1.741465e+00</td>\n",
              "    </tr>\n",
              "    <tr>\n",
              "      <th>std</th>\n",
              "      <td>3.826485e+00</td>\n",
              "      <td>4.171303e+00</td>\n",
              "      <td>5.461803e+00</td>\n",
              "      <td>4.912172e-01</td>\n",
              "      <td>3.546406e-01</td>\n",
              "      <td>5.467979e-01</td>\n",
              "      <td>4.763586e+00</td>\n",
              "      <td>5.757639e+00</td>\n",
              "      <td>3.876503e+00</td>\n",
              "      <td>5.276888e-01</td>\n",
              "      <td>5.555510e-01</td>\n",
              "      <td>5.643804e-01</td>\n",
              "      <td>3.283679e+00</td>\n",
              "    </tr>\n",
              "    <tr>\n",
              "      <th>min</th>\n",
              "      <td>-2.214600e+01</td>\n",
              "      <td>-1.961900e+01</td>\n",
              "      <td>-1.937300e+01</td>\n",
              "      <td>-2.146600e+00</td>\n",
              "      <td>-7.789900e+00</td>\n",
              "      <td>-2.626700e+00</td>\n",
              "      <td>-2.236100e+01</td>\n",
              "      <td>-1.897200e+01</td>\n",
              "      <td>-1.823900e+01</td>\n",
              "      <td>-8.339200e+00</td>\n",
              "      <td>-3.570800e+00</td>\n",
              "      <td>-2.689700e+00</td>\n",
              "      <td>0.000000e+00</td>\n",
              "    </tr>\n",
              "    <tr>\n",
              "      <th>25%</th>\n",
              "      <td>1.413100e-01</td>\n",
              "      <td>-1.020100e+01</td>\n",
              "      <td>-2.649400e+00</td>\n",
              "      <td>-4.359900e-01</td>\n",
              "      <td>-8.180100e-01</td>\n",
              "      <td>-5.933200e-01</td>\n",
              "      <td>-6.076000e+00</td>\n",
              "      <td>-9.404200e+00</td>\n",
              "      <td>1.296500e-01</td>\n",
              "      <td>-7.058800e-01</td>\n",
              "      <td>-8.973300e-01</td>\n",
              "      <td>-2.370700e-01</td>\n",
              "      <td>0.000000e+00</td>\n",
              "    </tr>\n",
              "    <tr>\n",
              "      <th>50%</th>\n",
              "      <td>1.308900e+00</td>\n",
              "      <td>-9.670300e+00</td>\n",
              "      <td>-1.645600e-02</td>\n",
              "      <td>-1.484200e-02</td>\n",
              "      <td>-7.073200e-01</td>\n",
              "      <td>-1.905700e-01</td>\n",
              "      <td>-2.977600e+00</td>\n",
              "      <td>-7.461500e+00</td>\n",
              "      <td>1.928100e+00</td>\n",
              "      <td>-3.549000e-01</td>\n",
              "      <td>-6.345000e-01</td>\n",
              "      <td>3.017200e-01</td>\n",
              "      <td>0.000000e+00</td>\n",
              "    </tr>\n",
              "    <tr>\n",
              "      <th>75%</th>\n",
              "      <td>2.575800e+00</td>\n",
              "      <td>-9.042200e+00</td>\n",
              "      <td>1.301300e+00</td>\n",
              "      <td>4.489800e-01</td>\n",
              "      <td>-5.403400e-01</td>\n",
              "      <td>3.222000e-01</td>\n",
              "      <td>-1.193700e+00</td>\n",
              "      <td>-2.533900e+00</td>\n",
              "      <td>4.914700e+00</td>\n",
              "      <td>9.607800e-02</td>\n",
              "      <td>-1.067800e-01</td>\n",
              "      <td>7.780200e-01</td>\n",
              "      <td>2.000000e+00</td>\n",
              "    </tr>\n",
              "    <tr>\n",
              "      <th>max</th>\n",
              "      <td>2.005400e+01</td>\n",
              "      <td>2.116100e+01</td>\n",
              "      <td>2.501500e+01</td>\n",
              "      <td>6.048400e+01</td>\n",
              "      <td>2.011300e+00</td>\n",
              "      <td>2.770100e+00</td>\n",
              "      <td>1.986400e+01</td>\n",
              "      <td>2.219100e+01</td>\n",
              "      <td>2.574100e+01</td>\n",
              "      <td>3.319600e+00</td>\n",
              "      <td>1.556500e+00</td>\n",
              "      <td>2.750000e+00</td>\n",
              "      <td>1.200000e+01</td>\n",
              "    </tr>\n",
              "  </tbody>\n",
              "</table>\n",
              "</div>\n",
              "      <button class=\"colab-df-convert\" onclick=\"convertToInteractive('df-a019ac1e-8335-407c-baa8-18163330af70')\"\n",
              "              title=\"Convert this dataframe to an interactive table.\"\n",
              "              style=\"display:none;\">\n",
              "        \n",
              "  <svg xmlns=\"http://www.w3.org/2000/svg\" height=\"24px\"viewBox=\"0 0 24 24\"\n",
              "       width=\"24px\">\n",
              "    <path d=\"M0 0h24v24H0V0z\" fill=\"none\"/>\n",
              "    <path d=\"M18.56 5.44l.94 2.06.94-2.06 2.06-.94-2.06-.94-.94-2.06-.94 2.06-2.06.94zm-11 1L8.5 8.5l.94-2.06 2.06-.94-2.06-.94L8.5 2.5l-.94 2.06-2.06.94zm10 10l.94 2.06.94-2.06 2.06-.94-2.06-.94-.94-2.06-.94 2.06-2.06.94z\"/><path d=\"M17.41 7.96l-1.37-1.37c-.4-.4-.92-.59-1.43-.59-.52 0-1.04.2-1.43.59L10.3 9.45l-7.72 7.72c-.78.78-.78 2.05 0 2.83L4 21.41c.39.39.9.59 1.41.59.51 0 1.02-.2 1.41-.59l7.78-7.78 2.81-2.81c.8-.78.8-2.07 0-2.86zM5.41 20L4 18.59l7.72-7.72 1.47 1.35L5.41 20z\"/>\n",
              "  </svg>\n",
              "      </button>\n",
              "      \n",
              "  <style>\n",
              "    .colab-df-container {\n",
              "      display:flex;\n",
              "      flex-wrap:wrap;\n",
              "      gap: 12px;\n",
              "    }\n",
              "\n",
              "    .colab-df-convert {\n",
              "      background-color: #E8F0FE;\n",
              "      border: none;\n",
              "      border-radius: 50%;\n",
              "      cursor: pointer;\n",
              "      display: none;\n",
              "      fill: #1967D2;\n",
              "      height: 32px;\n",
              "      padding: 0 0 0 0;\n",
              "      width: 32px;\n",
              "    }\n",
              "\n",
              "    .colab-df-convert:hover {\n",
              "      background-color: #E2EBFA;\n",
              "      box-shadow: 0px 1px 2px rgba(60, 64, 67, 0.3), 0px 1px 3px 1px rgba(60, 64, 67, 0.15);\n",
              "      fill: #174EA6;\n",
              "    }\n",
              "\n",
              "    [theme=dark] .colab-df-convert {\n",
              "      background-color: #3B4455;\n",
              "      fill: #D2E3FC;\n",
              "    }\n",
              "\n",
              "    [theme=dark] .colab-df-convert:hover {\n",
              "      background-color: #434B5C;\n",
              "      box-shadow: 0px 1px 3px 1px rgba(0, 0, 0, 0.15);\n",
              "      filter: drop-shadow(0px 1px 2px rgba(0, 0, 0, 0.3));\n",
              "      fill: #FFFFFF;\n",
              "    }\n",
              "  </style>\n",
              "\n",
              "      <script>\n",
              "        const buttonEl =\n",
              "          document.querySelector('#df-a019ac1e-8335-407c-baa8-18163330af70 button.colab-df-convert');\n",
              "        buttonEl.style.display =\n",
              "          google.colab.kernel.accessAllowed ? 'block' : 'none';\n",
              "\n",
              "        async function convertToInteractive(key) {\n",
              "          const element = document.querySelector('#df-a019ac1e-8335-407c-baa8-18163330af70');\n",
              "          const dataTable =\n",
              "            await google.colab.kernel.invokeFunction('convertToInteractive',\n",
              "                                                     [key], {});\n",
              "          if (!dataTable) return;\n",
              "\n",
              "          const docLinkHtml = 'Like what you see? Visit the ' +\n",
              "            '<a target=\"_blank\" href=https://colab.research.google.com/notebooks/data_table.ipynb>data table notebook</a>'\n",
              "            + ' to learn more about interactive tables.';\n",
              "          element.innerHTML = '';\n",
              "          dataTable['output_type'] = 'display_data';\n",
              "          await google.colab.output.renderOutput(dataTable, element);\n",
              "          const docLink = document.createElement('div');\n",
              "          docLink.innerHTML = docLinkHtml;\n",
              "          element.appendChild(docLink);\n",
              "        }\n",
              "      </script>\n",
              "    </div>\n",
              "  </div>\n",
              "  "
            ]
          },
          "metadata": {},
          "execution_count": 9
        }
      ],
      "source": [
        "df_health.describe()"
      ]
    },
    {
      "cell_type": "code",
      "execution_count": 10,
      "metadata": {
        "id": "7aBwADYfTDR5",
        "colab": {
          "base_uri": "https://localhost:8080/",
          "height": 516
        },
        "outputId": "b6644435-f945-462e-c67a-c7161f3925e7"
      },
      "outputs": [
        {
          "output_type": "execute_result",
          "data": {
            "text/plain": [
              "<matplotlib.axes._subplots.AxesSubplot at 0x7fea32bc0c50>"
            ]
          },
          "metadata": {},
          "execution_count": 10
        },
        {
          "output_type": "display_data",
          "data": {
            "text/plain": [
              "<Figure size 720x576 with 1 Axes>"
            ],
            "image/png": "[encoded data removed]"
          },
          "metadata": {
            "needs_background": "light"
          }
        }
      ],
      "source": [
        "#Check data before sampling\n",
        "\n",
        "plt.figure(figsize=(10,8))\n",
        "plt.title(\"Data before sampling\")\n",
        "df_health['Activity'].value_counts().plot.bar(rot=1)"
      ]
    },
    {
      "cell_type": "code",
      "execution_count": 11,
      "metadata": {
        "id": "_SJwW10RfRVc"
      },
      "outputs": [],
      "source": [
        "#Resampling activity 0 to 40000 observations\n",
        "data_activity_0 = df_health[df_health['Activity'] == 0]\n",
        "data_activity_else = df_health[df_health['Activity'] != 0]\n",
        "\n",
        "data_activity_0 = data_activity_0.sample(n=40000, random_state=42)\n",
        "\n",
        "df = pd.concat([data_activity_0,data_activity_else])"
      ]
    },
    {
      "cell_type": "code",
      "execution_count": 12,
      "metadata": {
        "id": "g-AbOtK6gFv3",
        "colab": {
          "base_uri": "https://localhost:8080/",
          "height": 516
        },
        "outputId": "2294944a-f712-4221-b874-1b04a83ddba4"
      },
      "outputs": [
        {
          "output_type": "execute_result",
          "data": {
            "text/plain": [
              "<matplotlib.axes._subplots.AxesSubplot at 0x7fea292f09d0>"
            ]
          },
          "metadata": {},
          "execution_count": 12
        },
        {
          "output_type": "display_data",
          "data": {
            "text/plain": [
              "<Figure size 720x576 with 1 Axes>"
            ],
            "image/png": "[encoded data removed]"
          },
          "metadata": {
            "needs_background": "light"
          }
        }
      ],
      "source": [
        "#Check data after sampling\n",
        "\n",
        "plt.figure(figsize=(10,8))\n",
        "plt.title(\"Data after sampling\")\n",
        "df['Activity'].value_counts().plot.bar(rot=1)"
      ]
    },
    {
      "cell_type": "markdown",
      "metadata": {
        "id": "zJcPlVMkhzXG"
      },
      "source": [
        "## EDA"
      ]
    },
    {
      "cell_type": "code",
      "execution_count": 13,
      "metadata": {
        "id": "3qoxCnbBgy5f",
        "colab": {
          "base_uri": "https://localhost:8080/",
          "height": 483
        },
        "outputId": "d5109e5c-f854-479e-9e39-d99af5e9a3a3"
      },
      "outputs": [
        {
          "output_type": "execute_result",
          "data": {
            "text/plain": [
              "<matplotlib.axes._subplots.AxesSubplot at 0x7fea28e16f50>"
            ]
          },
          "metadata": {},
          "execution_count": 13
        },
        {
          "output_type": "display_data",
          "data": {
            "text/plain": [
              "<Figure size 864x576 with 1 Axes>"
            ],
            "image/png": "[encoded data removed]"
          },
          "metadata": {}
        }
      ],
      "source": [
        "plt.figure(figsize=(12,8))\n",
        "round(df['Activity'].value_counts()/df.shape[0] * 100, 2).plot.pie(autopct= '%2.1f%%')"
      ]
    },
    {
      "cell_type": "code",
      "execution_count": 14,
      "metadata": {
        "id": "ZFxROrQPiBWN",
        "colab": {
          "base_uri": "https://localhost:8080/",
          "height": 712
        },
        "outputId": "dcff47eb-3525-439e-b1bf-29bde8daf98c"
      },
      "outputs": [
        {
          "output_type": "execute_result",
          "data": {
            "text/plain": [
              "<matplotlib.axes._subplots.AxesSubplot at 0x7fea28d28e90>"
            ]
          },
          "metadata": {},
          "execution_count": 14
        },
        {
          "output_type": "display_data",
          "data": {
            "text/plain": [
              "<Figure size 1296x1296 with 2 Axes>"
            ],
            "image/png": "[encoded data removed]"
          },
          "metadata": {
            "needs_background": "light"
          }
        }
      ],
      "source": [
        "plt.subplots(figsize =(18,18))\n",
        "sns.heatmap(df.corr(), annot=True)"
      ]
    },
    {
      "cell_type": "code",
      "execution_count": 15,
      "metadata": {
        "id": "nz2MAdckilAC",
        "colab": {
          "base_uri": "https://localhost:8080/"
        },
        "outputId": "6a657036-28ce-4f52-bc65-419f8d066d81"
      },
      "outputs": [
        {
          "output_type": "execute_result",
          "data": {
            "text/plain": [
              "(383195, 14)"
            ]
          },
          "metadata": {},
          "execution_count": 15
        }
      ],
      "source": [
        "df.shape"
      ]
    },
    {
      "cell_type": "code",
      "execution_count": 16,
      "metadata": {
        "id": "-u2ql5j0lXnS",
        "colab": {
          "base_uri": "https://localhost:8080/"
        },
        "outputId": "da630fb9-27eb-40b8-c7a0-099f45e7481d"
      },
      "outputs": [
        {
          "output_type": "stream",
          "name": "stdout",
          "text": [
            "alx range: -11.56042 to 19.21306\n",
            "shape (375531, 14)\n",
            "aly range: -19.378 to 2.4029\n",
            "shape (369652, 14)\n",
            "alz range: -18.949 to 14.098\n",
            "shape (365857, 14)\n",
            "glx range: -0.75325 to 0.80705\n",
            "shape (358836, 14)\n",
            "gly range: -1.0675 to 0.96623\n",
            "shape (352178, 14)\n",
            "glz range: -1.1061 to 0.8290799999999999\n",
            "shape (346489, 14)\n",
            "arx range: -21.487 to 9.00673\n",
            "shape (341266, 14)\n",
            "ary range: -18.691 to 11.833059999999998\n",
            "shape (335039, 14)\n",
            "arz range: -10.24606 to 11.783059999999997\n",
            "shape (332353, 14)\n",
            "grx range: -1.0216 to 0.95294\n",
            "shape (328736, 14)\n",
            "gry range: -1.1437 to 0.91376\n",
            "shape (323745, 14)\n",
            "grz range: -0.7069 to 1.125\n",
            "shape (319089, 14)\n"
          ]
        }
      ],
      "source": [
        "### Confidence interval\n",
        "\n",
        "df1 = df.copy()\n",
        "\n",
        "for feature in df1.columns[:-2]:\n",
        "  lower_range = np.quantile(df[feature], 0.01)\n",
        "  upper_range = np.quantile(df[feature], 0.99)\n",
        "  print(feature, 'range:', lower_range, 'to', upper_range)\n",
        "\n",
        "  df1 = df1.drop(df1[(df1[feature] > upper_range) | (df1[feature] < lower_range)].index, axis=0)\n",
        "  print('shape', df1.shape)"
      ]
    },
    {
      "cell_type": "code",
      "execution_count": 17,
      "metadata": {
        "id": "fZYg2j1vp4C7",
        "colab": {
          "base_uri": "https://localhost:8080/"
        },
        "outputId": "70603d8a-7a03-4f67-ae0f-2bf5429cbc24"
      },
      "outputs": [
        {
          "output_type": "execute_result",
          "data": {
            "text/plain": [
              "(319089, 14)"
            ]
          },
          "metadata": {},
          "execution_count": 17
        }
      ],
      "source": [
        "df1.shape"
      ]
    },
    {
      "cell_type": "code",
      "execution_count": 18,
      "metadata": {
        "id": "vFrskmUGp3_6"
      },
      "outputs": [],
      "source": [
        "df = df1.copy()"
      ]
    },
    {
      "cell_type": "code",
      "execution_count": 19,
      "metadata": {
        "id": "mWBN4hHzqEUH"
      },
      "outputs": [],
      "source": [
        "df = df.drop('subject', axis=1)"
      ]
    },
    {
      "cell_type": "code",
      "execution_count": 20,
      "metadata": {
        "id": "axrmQIDDqMdn",
        "colab": {
          "base_uri": "https://localhost:8080/"
        },
        "outputId": "eb0f9bde-ffc3-4131-f0fb-c9c1bcfcc311"
      },
      "outputs": [
        {
          "output_type": "execute_result",
          "data": {
            "text/plain": [
              "Index(['alx', 'aly', 'alz', 'glx', 'gly', 'glz', 'arx', 'ary', 'arz', 'grx',\n",
              "       'gry', 'grz', 'Activity'],\n",
              "      dtype='object')"
            ]
          },
          "metadata": {},
          "execution_count": 20
        }
      ],
      "source": [
        "df.columns"
      ]
    },
    {
      "cell_type": "code",
      "execution_count": 21,
      "metadata": {
        "id": "oOldDeUEqYlT"
      },
      "outputs": [],
      "source": [
        "# Train test split\n",
        "from sklearn.model_selection import train_test_split, GridSearchCV\n",
        "from sklearn.metrics import classification_report, accuracy_score, recall_score, precision_score, f1_score,confusion_matrix, mean_absolute_error , r2_score , mean_squared_error, mean_absolute_percentage_error\n",
        "x = df.drop(['Activity'], axis = 1)\n",
        "y = df['Activity']\n",
        "\n",
        "x_train, x_test, y_train, y_test = train_test_split(x, y, test_size=0.25, random_state=42)"
      ]
    },
    {
      "cell_type": "code",
      "execution_count": 22,
      "metadata": {
        "id": "G5xDf3nTrI6y",
        "colab": {
          "base_uri": "https://localhost:8080/"
        },
        "outputId": "09cf067c-abc9-401e-ef60-cdf3c5df246d"
      },
      "outputs": [
        {
          "output_type": "execute_result",
          "data": {
            "text/plain": [
              "(239316, 12)"
            ]
          },
          "metadata": {},
          "execution_count": 22
        }
      ],
      "source": [
        "x_train.shape"
      ]
    },
    {
      "cell_type": "code",
      "execution_count": 23,
      "metadata": {
        "id": "XRi8r6marI3y",
        "colab": {
          "base_uri": "https://localhost:8080/",
          "height": 488
        },
        "outputId": "40850f1e-41da-40db-dc86-3e227b2ae60b"
      },
      "outputs": [
        {
          "output_type": "execute_result",
          "data": {
            "text/plain": [
              "             alx     aly       alz      glx      gly       glz      arx  \\\n",
              "339194   1.43730 -8.2911 -4.358500 -0.31911 -0.48968 -0.944990 -2.59410   \n",
              "456810  -0.76164 -9.6439  1.947700 -0.49165 -0.59475  0.626720 -0.82872   \n",
              "565417   1.95110 -6.9986 -6.788800 -0.61967 -0.75235 -0.436150  0.60520   \n",
              "863534   1.55930 -9.6898  0.322770 -0.64935 -0.27205  0.667980 -2.53680   \n",
              "1001603  0.60203 -8.9669  4.297300 -0.48237 -0.54409  0.630650 -6.74540   \n",
              "...          ...     ...       ...      ...      ...       ...      ...   \n",
              "784250   1.06380 -9.7150  1.764500  0.31725 -0.60788  0.626720 -1.62670   \n",
              "791011   3.46830 -6.7578  6.394700  0.63822 -0.72045 -0.047151 -8.71290   \n",
              "15760    0.54360 -9.6251  0.857510  0.49722 -0.84615 -0.536350 -5.19600   \n",
              "557327   1.53480 -9.5740  0.026231 -0.64750 -0.77861  0.104130 -2.90850   \n",
              "918543   2.40210 -9.4540  0.145070  0.73840 -0.58161  0.129670 -6.95790   \n",
              "\n",
              "             ary      arz       grx      gry      grz  \n",
              "339194   -7.3375  3.24770 -0.566670 -0.88706 -0.20690  \n",
              "456810   -9.5951  1.48900 -0.694120 -0.77618  0.28664  \n",
              "565417  -11.4300 -2.02980 -0.680390 -0.81725  0.14224  \n",
              "863534   -9.6223 -0.23112 -0.772550 -0.20534 -0.32974  \n",
              "1001603  -2.3836  6.64120 -0.723530  0.47639  0.60345  \n",
              "...          ...      ...       ...      ...      ...  \n",
              "784250   -9.2038  2.62310 -0.082353 -0.64682  0.96336  \n",
              "791011   -1.3280  4.20440 -0.505880 -0.59959  0.60345  \n",
              "15760    -7.3003  3.96830  0.172550 -0.73101  0.40517  \n",
              "557327   -9.2862  1.37940 -0.880390 -0.52567  0.34052  \n",
              "918543  -11.2430  3.67740 -0.003922 -0.80698  0.84483  \n",
              "\n",
              "[79773 rows x 12 columns]"
            ],
            "text/html": [
              "\n",
              "  <div id=\"df-9c25b13a-4c2b-4b78-b43b-e58e3aea2788\">\n",
              "    <div class=\"colab-df-container\">\n",
              "      <div>\n",
              "<style scoped>\n",
              "    .dataframe tbody tr th:only-of-type {\n",
              "        vertical-align: middle;\n",
              "    }\n",
              "\n",
              "    .dataframe tbody tr th {\n",
              "        vertical-align: top;\n",
              "    }\n",
              "\n",
              "    .dataframe thead th {\n",
              "        text-align: right;\n",
              "    }\n",
              "</style>\n",
              "<table border=\"1\" class=\"dataframe\">\n",
              "  <thead>\n",
              "    <tr style=\"text-align: right;\">\n",
              "      <th></th>\n",
              "      <th>alx</th>\n",
              "      <th>aly</th>\n",
              "      <th>alz</th>\n",
              "      <th>glx</th>\n",
              "      <th>gly</th>\n",
              "      <th>glz</th>\n",
              "      <th>arx</th>\n",
              "      <th>ary</th>\n",
              "      <th>arz</th>\n",
              "      <th>grx</th>\n",
              "      <th>gry</th>\n",
              "      <th>grz</th>\n",
              "    </tr>\n",
              "  </thead>\n",
              "  <tbody>\n",
              "    <tr>\n",
              "      <th>339194</th>\n",
              "      <td>1.43730</td>\n",
              "      <td>-8.2911</td>\n",
              "      <td>-4.358500</td>\n",
              "      <td>-0.31911</td>\n",
              "      <td>-0.48968</td>\n",
              "      <td>-0.944990</td>\n",
              "      <td>-2.59410</td>\n",
              "      <td>-7.3375</td>\n",
              "      <td>3.24770</td>\n",
              "      <td>-0.566670</td>\n",
              "      <td>-0.88706</td>\n",
              "      <td>-0.20690</td>\n",
              "    </tr>\n",
              "    <tr>\n",
              "      <th>456810</th>\n",
              "      <td>-0.76164</td>\n",
              "      <td>-9.6439</td>\n",
              "      <td>1.947700</td>\n",
              "      <td>-0.49165</td>\n",
              "      <td>-0.59475</td>\n",
              "      <td>0.626720</td>\n",
              "      <td>-0.82872</td>\n",
              "      <td>-9.5951</td>\n",
              "      <td>1.48900</td>\n",
              "      <td>-0.694120</td>\n",
              "      <td>-0.77618</td>\n",
              "      <td>0.28664</td>\n",
              "    </tr>\n",
              "    <tr>\n",
              "      <th>565417</th>\n",
              "      <td>1.95110</td>\n",
              "      <td>-6.9986</td>\n",
              "      <td>-6.788800</td>\n",
              "      <td>-0.61967</td>\n",
              "      <td>-0.75235</td>\n",
              "      <td>-0.436150</td>\n",
              "      <td>0.60520</td>\n",
              "      <td>-11.4300</td>\n",
              "      <td>-2.02980</td>\n",
              "      <td>-0.680390</td>\n",
              "      <td>-0.81725</td>\n",
              "      <td>0.14224</td>\n",
              "    </tr>\n",
              "    <tr>\n",
              "      <th>863534</th>\n",
              "      <td>1.55930</td>\n",
              "      <td>-9.6898</td>\n",
              "      <td>0.322770</td>\n",
              "      <td>-0.64935</td>\n",
              "      <td>-0.27205</td>\n",
              "      <td>0.667980</td>\n",
              "      <td>-2.53680</td>\n",
              "      <td>-9.6223</td>\n",
              "      <td>-0.23112</td>\n",
              "      <td>-0.772550</td>\n",
              "      <td>-0.20534</td>\n",
              "      <td>-0.32974</td>\n",
              "    </tr>\n",
              "    <tr>\n",
              "      <th>1001603</th>\n",
              "      <td>0.60203</td>\n",
              "      <td>-8.9669</td>\n",
              "      <td>4.297300</td>\n",
              "      <td>-0.48237</td>\n",
              "      <td>-0.54409</td>\n",
              "      <td>0.630650</td>\n",
              "      <td>-6.74540</td>\n",
              "      <td>-2.3836</td>\n",
              "      <td>6.64120</td>\n",
              "      <td>-0.723530</td>\n",
              "      <td>0.47639</td>\n",
              "      <td>0.60345</td>\n",
              "    </tr>\n",
              "    <tr>\n",
              "      <th>...</th>\n",
              "      <td>...</td>\n",
              "      <td>...</td>\n",
              "      <td>...</td>\n",
              "      <td>...</td>\n",
              "      <td>...</td>\n",
              "      <td>...</td>\n",
              "      <td>...</td>\n",
              "      <td>...</td>\n",
              "      <td>...</td>\n",
              "      <td>...</td>\n",
              "      <td>...</td>\n",
              "      <td>...</td>\n",
              "    </tr>\n",
              "    <tr>\n",
              "      <th>784250</th>\n",
              "      <td>1.06380</td>\n",
              "      <td>-9.7150</td>\n",
              "      <td>1.764500</td>\n",
              "      <td>0.31725</td>\n",
              "      <td>-0.60788</td>\n",
              "      <td>0.626720</td>\n",
              "      <td>-1.62670</td>\n",
              "      <td>-9.2038</td>\n",
              "      <td>2.62310</td>\n",
              "      <td>-0.082353</td>\n",
              "      <td>-0.64682</td>\n",
              "      <td>0.96336</td>\n",
              "    </tr>\n",
              "    <tr>\n",
              "      <th>791011</th>\n",
              "      <td>3.46830</td>\n",
              "      <td>-6.7578</td>\n",
              "      <td>6.394700</td>\n",
              "      <td>0.63822</td>\n",
              "      <td>-0.72045</td>\n",
              "      <td>-0.047151</td>\n",
              "      <td>-8.71290</td>\n",
              "      <td>-1.3280</td>\n",
              "      <td>4.20440</td>\n",
              "      <td>-0.505880</td>\n",
              "      <td>-0.59959</td>\n",
              "      <td>0.60345</td>\n",
              "    </tr>\n",
              "    <tr>\n",
              "      <th>15760</th>\n",
              "      <td>0.54360</td>\n",
              "      <td>-9.6251</td>\n",
              "      <td>0.857510</td>\n",
              "      <td>0.49722</td>\n",
              "      <td>-0.84615</td>\n",
              "      <td>-0.536350</td>\n",
              "      <td>-5.19600</td>\n",
              "      <td>-7.3003</td>\n",
              "      <td>3.96830</td>\n",
              "      <td>0.172550</td>\n",
              "      <td>-0.73101</td>\n",
              "      <td>0.40517</td>\n",
              "    </tr>\n",
              "    <tr>\n",
              "      <th>557327</th>\n",
              "      <td>1.53480</td>\n",
              "      <td>-9.5740</td>\n",
              "      <td>0.026231</td>\n",
              "      <td>-0.64750</td>\n",
              "      <td>-0.77861</td>\n",
              "      <td>0.104130</td>\n",
              "      <td>-2.90850</td>\n",
              "      <td>-9.2862</td>\n",
              "      <td>1.37940</td>\n",
              "      <td>-0.880390</td>\n",
              "      <td>-0.52567</td>\n",
              "      <td>0.34052</td>\n",
              "    </tr>\n",
              "    <tr>\n",
              "      <th>918543</th>\n",
              "      <td>2.40210</td>\n",
              "      <td>-9.4540</td>\n",
              "      <td>0.145070</td>\n",
              "      <td>0.73840</td>\n",
              "      <td>-0.58161</td>\n",
              "      <td>0.129670</td>\n",
              "      <td>-6.95790</td>\n",
              "      <td>-11.2430</td>\n",
              "      <td>3.67740</td>\n",
              "      <td>-0.003922</td>\n",
              "      <td>-0.80698</td>\n",
              "      <td>0.84483</td>\n",
              "    </tr>\n",
              "  </tbody>\n",
              "</table>\n",
              "<p>79773 rows × 12 columns</p>\n",
              "</div>\n",
              "      <button class=\"colab-df-convert\" onclick=\"convertToInteractive('df-9c25b13a-4c2b-4b78-b43b-e58e3aea2788')\"\n",
              "              title=\"Convert this dataframe to an interactive table.\"\n",
              "              style=\"display:none;\">\n",
              "        \n",
              "  <svg xmlns=\"http://www.w3.org/2000/svg\" height=\"24px\"viewBox=\"0 0 24 24\"\n",
              "       width=\"24px\">\n",
              "    <path d=\"M0 0h24v24H0V0z\" fill=\"none\"/>\n",
              "    <path d=\"M18.56 5.44l.94 2.06.94-2.06 2.06-.94-2.06-.94-.94-2.06-.94 2.06-2.06.94zm-11 1L8.5 8.5l.94-2.06 2.06-.94-2.06-.94L8.5 2.5l-.94 2.06-2.06.94zm10 10l.94 2.06.94-2.06 2.06-.94-2.06-.94-.94-2.06-.94 2.06-2.06.94z\"/><path d=\"M17.41 7.96l-1.37-1.37c-.4-.4-.92-.59-1.43-.59-.52 0-1.04.2-1.43.59L10.3 9.45l-7.72 7.72c-.78.78-.78 2.05 0 2.83L4 21.41c.39.39.9.59 1.41.59.51 0 1.02-.2 1.41-.59l7.78-7.78 2.81-2.81c.8-.78.8-2.07 0-2.86zM5.41 20L4 18.59l7.72-7.72 1.47 1.35L5.41 20z\"/>\n",
              "  </svg>\n",
              "      </button>\n",
              "      \n",
              "  <style>\n",
              "    .colab-df-container {\n",
              "      display:flex;\n",
              "      flex-wrap:wrap;\n",
              "      gap: 12px;\n",
              "    }\n",
              "\n",
              "    .colab-df-convert {\n",
              "      background-color: #E8F0FE;\n",
              "      border: none;\n",
              "      border-radius: 50%;\n",
              "      cursor: pointer;\n",
              "      display: none;\n",
              "      fill: #1967D2;\n",
              "      height: 32px;\n",
              "      padding: 0 0 0 0;\n",
              "      width: 32px;\n",
              "    }\n",
              "\n",
              "    .colab-df-convert:hover {\n",
              "      background-color: #E2EBFA;\n",
              "      box-shadow: 0px 1px 2px rgba(60, 64, 67, 0.3), 0px 1px 3px 1px rgba(60, 64, 67, 0.15);\n",
              "      fill: #174EA6;\n",
              "    }\n",
              "\n",
              "    [theme=dark] .colab-df-convert {\n",
              "      background-color: #3B4455;\n",
              "      fill: #D2E3FC;\n",
              "    }\n",
              "\n",
              "    [theme=dark] .colab-df-convert:hover {\n",
              "      background-color: #434B5C;\n",
              "      box-shadow: 0px 1px 3px 1px rgba(0, 0, 0, 0.15);\n",
              "      filter: drop-shadow(0px 1px 2px rgba(0, 0, 0, 0.3));\n",
              "      fill: #FFFFFF;\n",
              "    }\n",
              "  </style>\n",
              "\n",
              "      <script>\n",
              "        const buttonEl =\n",
              "          document.querySelector('#df-9c25b13a-4c2b-4b78-b43b-e58e3aea2788 button.colab-df-convert');\n",
              "        buttonEl.style.display =\n",
              "          google.colab.kernel.accessAllowed ? 'block' : 'none';\n",
              "\n",
              "        async function convertToInteractive(key) {\n",
              "          const element = document.querySelector('#df-9c25b13a-4c2b-4b78-b43b-e58e3aea2788');\n",
              "          const dataTable =\n",
              "            await google.colab.kernel.invokeFunction('convertToInteractive',\n",
              "                                                     [key], {});\n",
              "          if (!dataTable) return;\n",
              "\n",
              "          const docLinkHtml = 'Like what you see? Visit the ' +\n",
              "            '<a target=\"_blank\" href=https://colab.research.google.com/notebooks/data_table.ipynb>data table notebook</a>'\n",
              "            + ' to learn more about interactive tables.';\n",
              "          element.innerHTML = '';\n",
              "          dataTable['output_type'] = 'display_data';\n",
              "          await google.colab.output.renderOutput(dataTable, element);\n",
              "          const docLink = document.createElement('div');\n",
              "          docLink.innerHTML = docLinkHtml;\n",
              "          element.appendChild(docLink);\n",
              "        }\n",
              "      </script>\n",
              "    </div>\n",
              "  </div>\n",
              "  "
            ]
          },
          "metadata": {},
          "execution_count": 23
        }
      ],
      "source": [
        "x_test"
      ]
    },
    {
      "cell_type": "code",
      "execution_count": 24,
      "metadata": {
        "id": "LGnV2MjNrP41",
        "colab": {
          "base_uri": "https://localhost:8080/"
        },
        "outputId": "d4281ac5-ddd0-4dc1-9e8b-2f92c4dea311"
      },
      "outputs": [
        {
          "output_type": "execute_result",
          "data": {
            "text/plain": [
              "1005084     3\n",
              "675938      6\n",
              "1162135     4\n",
              "1012024     4\n",
              "275008     12\n",
              "           ..\n",
              "410911      5\n",
              "977669     12\n",
              "471683      4\n",
              "514986     10\n",
              "418587      5\n",
              "Name: Activity, Length: 239316, dtype: int64"
            ]
          },
          "metadata": {},
          "execution_count": 24
        }
      ],
      "source": [
        "y_train"
      ]
    },
    {
      "cell_type": "code",
      "execution_count": 25,
      "metadata": {
        "id": "_4e33zQGrP11",
        "colab": {
          "base_uri": "https://localhost:8080/"
        },
        "outputId": "3e2b5594-1f44-43c7-81c7-4e52b4050b84"
      },
      "outputs": [
        {
          "output_type": "execute_result",
          "data": {
            "text/plain": [
              "(79773,)"
            ]
          },
          "metadata": {},
          "execution_count": 25
        }
      ],
      "source": [
        "y_test.shape"
      ]
    },
    {
      "cell_type": "markdown",
      "metadata": {
        "id": "hjas1Xdrpuwt"
      },
      "source": [
        "# Model Building"
      ]
    },
    {
      "cell_type": "code",
      "execution_count": 26,
      "metadata": {
        "id": "t3rqtM9V0-wR"
      },
      "outputs": [],
      "source": [
        "# Feature Scaling\n",
        "from sklearn.preprocessing import RobustScaler\n",
        "scaler = RobustScaler().fit(x_train)\n",
        "x_train = scaler.transform(x_train)\n",
        "x_test = scaler.transform(x_test)"
      ]
    },
    {
      "cell_type": "code",
      "execution_count": 27,
      "metadata": {
        "id": "FrRTXGyhmEYh"
      },
      "outputs": [],
      "source": [
        "from sklearn.linear_model import LogisticRegression\n",
        "from sklearn.svm import SVC\n",
        "from sklearn.neighbors import KNeighborsClassifier\n",
        "from sklearn.naive_bayes import GaussianNB\n",
        "from sklearn.ensemble import RandomForestClassifier\n",
        "from sklearn.tree import DecisionTreeClassifier"
      ]
    },
    {
      "cell_type": "code",
      "execution_count": 28,
      "metadata": {
        "id": "QLjwhWJsr150",
        "colab": {
          "base_uri": "https://localhost:8080/"
        },
        "outputId": "dcd2a37e-1cfb-4c36-b473-14469767fd2b"
      },
      "outputs": [
        {
          "output_type": "stream",
          "name": "stderr",
          "text": [
            "/usr/local/lib/python3.7/dist-packages/sklearn/linear_model/_logistic.py:818: ConvergenceWarning: lbfgs failed to converge (status=1):\n",
            "STOP: TOTAL NO. of ITERATIONS REACHED LIMIT.\n",
            "\n",
            "Increase the number of iterations (max_iter) or scale the data as shown in:\n",
            "    https://scikit-learn.org/stable/modules/preprocessing.html\n",
            "Please also refer to the documentation for alternative solver options:\n",
            "    https://scikit-learn.org/stable/modules/linear_model.html#logistic-regression\n",
            "  extra_warning_msg=_LOGISTIC_SOLVER_CONVERGENCE_MSG,\n",
            "/usr/local/lib/python3.7/dist-packages/sklearn/metrics/_classification.py:1375: UserWarning: Note that pos_label (set to 'positive') is ignored when average != 'binary' (got 'micro'). You may use labels=[pos_label] to specify a single positive class.\n",
            "  UserWarning,\n"
          ]
        },
        {
          "output_type": "execute_result",
          "data": {
            "text/plain": [
              "0.6017950935780276"
            ]
          },
          "metadata": {},
          "execution_count": 28
        }
      ],
      "source": [
        "#Logistic Regression\n",
        "lr = LogisticRegression()\n",
        "lr.fit(x_train, y_train)\n",
        "pred = lr.predict(x_test)\n",
        "f1_score(y_test, pred,pos_label='positive', average='micro')"
      ]
    },
    {
      "cell_type": "code",
      "execution_count": 29,
      "metadata": {
        "id": "XHBNQHxi3D6F"
      },
      "outputs": [],
      "source": [
        "#putting models in a dictionary\n",
        "\n",
        "models = {\n",
        "    'Randomforest': RandomForestClassifier(),\n",
        "    'LogisticRegression':LogisticRegression(),\n",
        "    'SVC':SVC(),\n",
        "    'KNeighborsClassifier':KNeighborsClassifier(),\n",
        "    'GaussianNB': GaussianNB(),\n",
        "    'DecisionTreeClassifier': DecisionTreeClassifier()\n",
        "}\n",
        "\n",
        "def fit_and_score(models, x_train, x_test, y_train, y_test):\n",
        "  np.random.seed(42)\n",
        "\n",
        "  #making a dictionary to keep model scores\n",
        "\n",
        "  model_scores = {}\n",
        "\n",
        "  for name, model in models.items():\n",
        "    model.fit(x_train,y_train)\n",
        "    preds = model.predict(x_test)\n",
        "    model_scores[name] = f1_score(y_test, pred,pos_label='positive', average='micro')\n",
        "  return model_scores"
      ]
    },
    {
      "cell_type": "code",
      "execution_count": 30,
      "metadata": {
        "id": "-ax8cxbHQJJq",
        "colab": {
          "base_uri": "https://localhost:8080/"
        },
        "outputId": "82649bec-4faa-4712-84eb-250acb2c3b95"
      },
      "outputs": [
        {
          "output_type": "stream",
          "name": "stderr",
          "text": [
            "/usr/local/lib/python3.7/dist-packages/sklearn/metrics/_classification.py:1375: UserWarning: Note that pos_label (set to 'positive') is ignored when average != 'binary' (got 'micro'). You may use labels=[pos_label] to specify a single positive class.\n",
            "  UserWarning,\n",
            "/usr/local/lib/python3.7/dist-packages/sklearn/linear_model/_logistic.py:818: ConvergenceWarning: lbfgs failed to converge (status=1):\n",
            "STOP: TOTAL NO. of ITERATIONS REACHED LIMIT.\n",
            "\n",
            "Increase the number of iterations (max_iter) or scale the data as shown in:\n",
            "    https://scikit-learn.org/stable/modules/preprocessing.html\n",
            "Please also refer to the documentation for alternative solver options:\n",
            "    https://scikit-learn.org/stable/modules/linear_model.html#logistic-regression\n",
            "  extra_warning_msg=_LOGISTIC_SOLVER_CONVERGENCE_MSG,\n",
            "/usr/local/lib/python3.7/dist-packages/sklearn/metrics/_classification.py:1375: UserWarning: Note that pos_label (set to 'positive') is ignored when average != 'binary' (got 'micro'). You may use labels=[pos_label] to specify a single positive class.\n",
            "  UserWarning,\n",
            "/usr/local/lib/python3.7/dist-packages/sklearn/metrics/_classification.py:1375: UserWarning: Note that pos_label (set to 'positive') is ignored when average != 'binary' (got 'micro'). You may use labels=[pos_label] to specify a single positive class.\n",
            "  UserWarning,\n",
            "/usr/local/lib/python3.7/dist-packages/sklearn/metrics/_classification.py:1375: UserWarning: Note that pos_label (set to 'positive') is ignored when average != 'binary' (got 'micro'). You may use labels=[pos_label] to specify a single positive class.\n",
            "  UserWarning,\n",
            "/usr/local/lib/python3.7/dist-packages/sklearn/metrics/_classification.py:1375: UserWarning: Note that pos_label (set to 'positive') is ignored when average != 'binary' (got 'micro'). You may use labels=[pos_label] to specify a single positive class.\n",
            "  UserWarning,\n",
            "/usr/local/lib/python3.7/dist-packages/sklearn/metrics/_classification.py:1375: UserWarning: Note that pos_label (set to 'positive') is ignored when average != 'binary' (got 'micro'). You may use labels=[pos_label] to specify a single positive class.\n",
            "  UserWarning,\n"
          ]
        },
        {
          "output_type": "execute_result",
          "data": {
            "text/plain": [
              "{'Randomforest': 0.6017950935780276,\n",
              " 'LogisticRegression': 0.6017950935780276,\n",
              " 'SVC': 0.6017950935780276,\n",
              " 'KNeighborsClassifier': 0.6017950935780276,\n",
              " 'GaussianNB': 0.6017950935780276,\n",
              " 'DecisionTreeClassifier': 0.6017950935780276}"
            ]
          },
          "metadata": {},
          "execution_count": 30
        }
      ],
      "source": [
        "scores = fit_and_score(models, x_train, x_test, y_train, y_test)\n",
        "\n",
        "scores"
      ]
    },
    {
      "cell_type": "code",
      "execution_count": 31,
      "metadata": {
        "id": "F4nCxsxbSISd",
        "colab": {
          "base_uri": "https://localhost:8080/"
        },
        "outputId": "79a0a822-99eb-4d4f-80b7-71b38112b908"
      },
      "outputs": [
        {
          "output_type": "execute_result",
          "data": {
            "text/plain": [
              "array([[ 1.42528315,  6.51032653,  1.86189339, ...,  0.58550451,\n",
              "         1.45538719,  0.71180571],\n",
              "       [ 0.05506215,  0.1936865 ,  0.4861266 , ...,  0.0120676 ,\n",
              "        -0.35988027, -1.12561143],\n",
              "       [ 0.04580974, -0.21201797, -0.19331725, ..., -0.36218202,\n",
              "         0.01273322,  0.31034286],\n",
              "       ...,\n",
              "       [ 1.4425132 ,  3.19624928, -4.35720051, ...,  0.01609014,\n",
              "         0.2929882 ,  0.65270857],\n",
              "       [ 2.88264134,  0.16884252,  0.67797001, ..., -0.77866825,\n",
              "         0.74521147, -0.69950857],\n",
              "       [ 0.56595995, -0.193988  ,  0.0418811 , ...,  1.02615674,\n",
              "         0.13693255, -0.81034286]])"
            ]
          },
          "metadata": {},
          "execution_count": 31
        }
      ],
      "source": [
        "x_train"
      ]
    },
    {
      "cell_type": "code",
      "execution_count": null,
      "metadata": {
        "id": "7whQ_EKqKh8Y"
      },
      "outputs": [],
      "source": [
        "rf = RandomForestClassifier()\n",
        "rf.fit(x_train, y_train)\n",
        "model.predict(x_test)\n",
        "f1_score(y_test, pred,pos_label='positive', average='micro')"
      ]
    },
    {
      "cell_type": "code",
      "execution_count": null,
      "metadata": {
        "id": "0-6Z97SKeLWF"
      },
      "outputs": [],
      "source": [
        "pip install xgboost\n"
      ]
    },
    {
      "cell_type": "code",
      "execution_count": null,
      "metadata": {
        "id": "LCItYQdCftRw"
      },
      "outputs": [],
      "source": [
        "import xgboost as xgb\n",
        "xg = xgb.XGBClassifier()\n",
        "xg.fit(x_train, y_train)\n",
        "pred = xg.predict(x_test)\n",
        "f1_score(y_test, pred,pos_label='positive', average='micro')"
      ]
    },
    {
      "cell_type": "code",
      "execution_count": null,
      "metadata": {
        "id": "J5pIIZDDftKP"
      },
      "outputs": [],
      "source": []
    },
    {
      "cell_type": "code",
      "execution_count": null,
      "metadata": {
        "id": "Nrl6LTtwfs9N"
      },
      "outputs": [],
      "source": []
    },
    {
      "cell_type": "code",
      "execution_count": null,
      "metadata": {
        "id": "fBNaDNI4dKfA"
      },
      "outputs": [],
      "source": [
        "## Hyperparmeter Tuning\n",
        "\n",
        "param_grid = {\n",
        "    \"max_depth\": [3, 4, 5, 7],\n",
        "    \"learning_rate\": [0.1, 0.01, 0.05],\n",
        "    \"gamma\": [0, 0.25, 1],\n",
        "    \"reg_lambda\": [0, 1, 10],\n",
        "    \"scale_pos_weight\": [1, 3, 5],\n",
        "    \"subsample\": [0.8],\n",
        "    \"colsample_bytree\": [0.5],\n",
        "}"
      ]
    }
  ],
  "metadata": {
    "accelerator": "GPU",
    "colab": {
      "collapsed_sections": [],
      "provenance": []
    },
    "kernelspec": {
      "display_name": "Python 3",
      "name": "python3"
    },
    "language_info": {
      "name": "python"
    }
  },
  "nbformat": 4,
  "nbformat_minor": 0
}